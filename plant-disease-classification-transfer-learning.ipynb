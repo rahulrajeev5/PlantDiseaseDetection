{
 "cells": [
  {
   "cell_type": "markdown",
   "id": "82b9c9b5",
   "metadata": {
    "papermill": {
     "duration": 0.007816,
     "end_time": "2023-11-11T05:54:19.239812",
     "exception": false,
     "start_time": "2023-11-11T05:54:19.231996",
     "status": "completed"
    },
    "tags": []
   },
   "source": [
    "# Plant Disease Detection with Plant Village and PlantDoc\n",
    "## Import Libraries and configure directories"
   ]
  },
  {
   "cell_type": "code",
   "execution_count": 1,
   "id": "5a148d65",
   "metadata": {
    "execution": {
     "iopub.execute_input": "2023-11-11T05:54:19.256537Z",
     "iopub.status.busy": "2023-11-11T05:54:19.255839Z",
     "iopub.status.idle": "2023-11-11T05:54:29.278065Z",
     "shell.execute_reply": "2023-11-11T05:54:29.277253Z"
    },
    "id": "bYWb1UN6sqmv",
    "papermill": {
     "duration": 10.033161,
     "end_time": "2023-11-11T05:54:29.280331",
     "exception": false,
     "start_time": "2023-11-11T05:54:19.247170",
     "status": "completed"
    },
    "tags": []
   },
   "outputs": [
    {
     "name": "stderr",
     "output_type": "stream",
     "text": [
      "/opt/conda/lib/python3.10/site-packages/scipy/__init__.py:146: UserWarning: A NumPy version >=1.16.5 and <1.23.0 is required for this version of SciPy (detected version 1.23.5\n",
      "  warnings.warn(f\"A NumPy version >={np_minversion} and <{np_maxversion}\"\n"
     ]
    }
   ],
   "source": [
    "import os\n",
    "import shutil\n",
    "import numpy as np\n",
    "import pandas as pd\n",
    "\n",
    "from sklearn.metrics import classification_report, roc_auc_score\n",
    "import matplotlib.pyplot as plt\n",
    "\n",
    "import tensorflow as tf\n",
    "from tensorflow import keras"
   ]
  },
  {
   "cell_type": "code",
   "execution_count": 2,
   "id": "873e882f",
   "metadata": {
    "execution": {
     "iopub.execute_input": "2023-11-11T05:54:29.297173Z",
     "iopub.status.busy": "2023-11-11T05:54:29.296351Z",
     "iopub.status.idle": "2023-11-11T05:54:29.301813Z",
     "shell.execute_reply": "2023-11-11T05:54:29.300893Z"
    },
    "papermill": {
     "duration": 0.01575,
     "end_time": "2023-11-11T05:54:29.303649",
     "exception": false,
     "start_time": "2023-11-11T05:54:29.287899",
     "status": "completed"
    },
    "tags": []
   },
   "outputs": [],
   "source": [
    "plant_village_dir = \"/kaggle/input/plantvillage-dataset/color\"\n",
    "plant_doc_dir = \"/kaggle/input/plantdoc-dataset/train\"\n",
    "dataset_dir = \"/kaggle/working/dataset/\"\n",
    "\n",
    "seed = 42\n",
    "tf.random.set_seed(seed)\n",
    "np.random.seed(seed)\n",
    "\n",
    "batch_size = 16"
   ]
  },
  {
   "cell_type": "code",
   "execution_count": 3,
   "id": "d1eda2be",
   "metadata": {
    "execution": {
     "iopub.execute_input": "2023-11-11T05:54:29.319614Z",
     "iopub.status.busy": "2023-11-11T05:54:29.319291Z",
     "iopub.status.idle": "2023-11-11T05:54:35.542287Z",
     "shell.execute_reply": "2023-11-11T05:54:35.541260Z"
    },
    "papermill": {
     "duration": 6.233308,
     "end_time": "2023-11-11T05:54:35.544380",
     "exception": false,
     "start_time": "2023-11-11T05:54:29.311072",
     "status": "completed"
    },
    "tags": []
   },
   "outputs": [
    {
     "name": "stdout",
     "output_type": "stream",
     "text": [
      "Downloading data from https://storage.googleapis.com/tensorflow/keras-applications/resnet/resnet50_weights_tf_dim_ordering_tf_kernels_notop.h5\n",
      "94765736/94765736 [==============================] - 0s 0us/step\n",
      "Model: \"sequential\"\n",
      "_________________________________________________________________\n",
      " Layer (type)                Output Shape              Param #   \n",
      "=================================================================\n",
      " rescaling (Rescaling)       (None, 224, 224, 3)       0         \n",
      "                                                                 \n",
      " resnet50 (Functional)       (None, 7, 7, 2048)        23587712  \n",
      "                                                                 \n",
      " global_average_pooling2d (G  (None, 2048)             0         \n",
      " lobalAveragePooling2D)                                          \n",
      "                                                                 \n",
      " dense (Dense)               (None, 128)               262272    \n",
      "                                                                 \n",
      " batch_normalization (BatchN  (None, 128)              512       \n",
      " ormalization)                                                   \n",
      "                                                                 \n",
      " dropout (Dropout)           (None, 128)               0         \n",
      "                                                                 \n",
      " dense_1 (Dense)             (None, 64)                8256      \n",
      "                                                                 \n",
      " batch_normalization_1 (Batc  (None, 64)               256       \n",
      " hNormalization)                                                 \n",
      "                                                                 \n",
      " dropout_1 (Dropout)         (None, 64)                0         \n",
      "                                                                 \n",
      " dense_2 (Dense)             (None, 38)                2470      \n",
      "                                                                 \n",
      "=================================================================\n",
      "Total params: 23,861,478\n",
      "Trainable params: 23,807,974\n",
      "Non-trainable params: 53,504\n",
      "_________________________________________________________________\n"
     ]
    }
   ],
   "source": [
    "from tensorflow.keras.applications import ResNet50\n",
    "# Load pre-trained ResNet-50 model without the top (fully connected) layers\n",
    "resnet_base = ResNet50(weights='imagenet', include_top=False, input_shape=(224, 224, 3))\n",
    "\n",
    "# Freeze the weights of the pre-trained ResNet-50 layers\n",
    "for layer in resnet_base.layers:\n",
    "    layer.trainable = True\n",
    "\n",
    "# Create the rest of your model\n",
    "model = keras.Sequential([\n",
    "    keras.layers.Rescaling(scale=1/255, input_shape=(224, 224, 3)),\n",
    "    \n",
    "    resnet_base,\n",
    "    \n",
    "    keras.layers.GlobalAveragePooling2D(),\n",
    "    \n",
    "    keras.layers.Dense(128, activation='relu'),\n",
    "    keras.layers.BatchNormalization(),\n",
    "    keras.layers.Dropout(0.5),\n",
    "    \n",
    "    keras.layers.Dense(64, activation='relu'),\n",
    "    keras.layers.BatchNormalization(),\n",
    "    keras.layers.Dropout(0.5),\n",
    "    \n",
    "    keras.layers.Dense(38, activation='sigmoid')\n",
    "])\n",
    "\n",
    "model.summary()"
   ]
  },
  {
   "cell_type": "markdown",
   "id": "1fc5372a",
   "metadata": {
    "papermill": {
     "duration": 0.010491,
     "end_time": "2023-11-11T05:54:35.565510",
     "exception": false,
     "start_time": "2023-11-11T05:54:35.555019",
     "status": "completed"
    },
    "tags": []
   },
   "source": [
    "### Optimizer (optimizer='adam'):\n",
    "   - An optimizer is a critical component of the training process in neural networks. It defines the specific algorithm used to adjust the model's parameters (weights and biases) during training in order to minimize the chosen loss function.\n",
    "   - 'Adam' stands for Adaptive Moment Estimation, and it is a popular optimization algorithm. It combines the benefits of both the Adagrad and RMSprop optimizers. Adam adjusts the learning rates for each parameter individually and maintains moving averages of the gradients.\n",
    "   - The optimizer's role is to update the model's weights in a way that helps it converge to a solution that minimizes the loss function.\n",
    "\n",
    "### Loss Function (loss='sparse_categorical_crossentropy')\n",
    "   - The loss function, also known as the cost function or objective function, measures the difference between the predicted values and the actual target values during training.\n",
    "   - 'Sparse Categorical Crossentropy' is a loss function commonly used in classification tasks, particularly when dealing with integer-encoded class labels. It calculates the cross-entropy between the predicted probability distribution (after applying a softmax activation) and the true class labels.\n",
    "   - In this case, 'sparse' indicates that the class labels are integer values (e.g., 0, 1, 2) rather than one-hot encoded vectors.\n",
    "\n",
    "### 3. Metrics (metrics='accuracy'):\n",
    "   - Metrics are used to evaluate and monitor the performance of the model during training and testing.\n",
    "   - 'Accuracy' is a commonly used metric for classification problems. It measures the proportion of correctly predicted samples to the total number of samples. In a multi-class classification task, accuracy calculates the ratio of correctly classified samples to the total number of samples."
   ]
  },
  {
   "cell_type": "code",
   "execution_count": 4,
   "id": "2f548ab9",
   "metadata": {
    "execution": {
     "iopub.execute_input": "2023-11-11T05:54:35.588340Z",
     "iopub.status.busy": "2023-11-11T05:54:35.587948Z",
     "iopub.status.idle": "2023-11-11T05:54:35.624194Z",
     "shell.execute_reply": "2023-11-11T05:54:35.623411Z"
    },
    "papermill": {
     "duration": 0.050346,
     "end_time": "2023-11-11T05:54:35.626406",
     "exception": false,
     "start_time": "2023-11-11T05:54:35.576060",
     "status": "completed"
    },
    "tags": []
   },
   "outputs": [],
   "source": [
    "initial_learning_rate = 0.001\n",
    "lr_schedule = tf.keras.optimizers.schedules.ExponentialDecay(\n",
    "    initial_learning_rate, decay_steps=1000, decay_rate=0.9\n",
    ")\n",
    "optimizer = tf.keras.optimizers.Adam(learning_rate=lr_schedule)\n",
    "model.compile(\n",
    "    optimizer=optimizer, \n",
    "    loss='sparse_categorical_crossentropy', \n",
    "    metrics=['accuracy'])\n"
   ]
  },
  {
   "cell_type": "markdown",
   "id": "4cf51cad",
   "metadata": {
    "papermill": {
     "duration": 0.010466,
     "end_time": "2023-11-11T05:54:35.647762",
     "exception": false,
     "start_time": "2023-11-11T05:54:35.637296",
     "status": "completed"
    },
    "tags": []
   },
   "source": [
    "Early stopping is a technique used during the training of neural networks to prevent overfitting and improve model generalization. It is based on a simple principle: if the model's performance on a validation dataset does not improve or worsens over a certain number of training epochs, training is halted to prevent the model from fitting the training data too closely. Let's explain the key components and the function of early stopping from first principles:\n",
    "\n",
    "1. **Monitor ('val_loss')**:\n",
    "   - The 'monitor' parameter specifies the metric that the early stopping algorithm should monitor to determine when to stop training. In this case, 'val_loss' is used, which means the validation loss is monitored. The validation loss is a measure of how well the model is performing on a separate validation dataset.\n",
    "\n",
    "2. **Patience (patience=5)**:\n",
    "   - The 'patience' parameter defines the number of epochs with no improvement in the monitored metric to wait before stopping the training process. If, for a specified number of consecutive epochs (in this case, 5), the validation loss doesn't decrease or improve, training is stopped. This is a mechanism to prevent the model from overfitting because further training might lead to worse generalization.\n",
    "\n",
    "3. **Restore Best Weights (restore_best_weights=True)**:\n",
    "   - When 'restore_best_weights' is set to 'True,' the early stopping callback will restore the model's weights to the best-performing state observed during training. This is essential because, during training, the model's weights might change in a way that leads to overfitting, but the best weights represent the model with the highest performance on the validation data. Restoring the best weights ensures that the model retains the best generalization ability.\n",
    "\n",
    "To understand the function of early stopping, consider the training process:\n",
    "\n",
    "- The model's performance on the validation dataset is continuously monitored.\n",
    "- If, for the specified number of consecutive epochs (patience), the validation loss does not improve or starts to degrade, the training process is stopped early.\n",
    "- By stopping training at this point, the model is prevented from overfitting, which can occur if it continues to fit the training data noise."
   ]
  },
  {
   "cell_type": "code",
   "execution_count": 5,
   "id": "a11a3357",
   "metadata": {
    "execution": {
     "iopub.execute_input": "2023-11-11T05:54:35.670066Z",
     "iopub.status.busy": "2023-11-11T05:54:35.669704Z",
     "iopub.status.idle": "2023-11-11T05:54:35.674565Z",
     "shell.execute_reply": "2023-11-11T05:54:35.673678Z"
    },
    "papermill": {
     "duration": 0.018274,
     "end_time": "2023-11-11T05:54:35.676495",
     "exception": false,
     "start_time": "2023-11-11T05:54:35.658221",
     "status": "completed"
    },
    "tags": []
   },
   "outputs": [],
   "source": [
    "early_stopping = tf.keras.callbacks.EarlyStopping(\n",
    "    monitor='val_loss',  # You can use other metrics like 'val_accuracy'\n",
    "    patience=5,          # Number of epochs with no improvement to wait\n",
    "    restore_best_weights=True  # Restore the best model weights when early stopping\n",
    ")"
   ]
  },
  {
   "cell_type": "markdown",
   "id": "a9ceddad",
   "metadata": {
    "papermill": {
     "duration": 0.01078,
     "end_time": "2023-11-11T05:54:35.697604",
     "exception": false,
     "start_time": "2023-11-11T05:54:35.686824",
     "status": "completed"
    },
    "tags": []
   },
   "source": [
    "## Train the model with PlantVillage Dataset\n",
    "In this data-set, 38 different classes of 54305 plant leafs are available. \n",
    "The classes are,\n",
    "1. Apple_scab\n",
    "1. Apple_black_rot\n",
    "1. Apple_cedar_apple_rust\n",
    "1. Apple_healthy\n",
    "1. Blueberry_healthy\n",
    "1. Cherry_powdery_mildew\n",
    "1. Cherry_healthy\n",
    "1. Corn_gray_leaf_spot\n",
    "1. Corn_common_rust\n",
    "1. Corn_northern_leaf_blight\n",
    "1. Corn_healthy\n",
    "1. Grape_black_rot\n",
    "1. Grape_black_measles\n",
    "1. Grape_leaf_blight\n",
    "1. Grape_healthy\n",
    "1. Orange_haunglongbing\n",
    "1. Peach_bacterial_spot\n",
    "1. Peach_healthy\n",
    "1. Pepper_bacterial_spot\n",
    "1. Pepper_healthy\n",
    "1. Potato_early_blight\n",
    "1. Potato_healthy\n",
    "1. Potato_late_blight\n",
    "1. Raspberry_healthy\n",
    "1. Soybean_healthy\n",
    "1. Squash_powdery_mildew\n",
    "1. Strawberry_healthy\n",
    "1. Strawberry_leaf_scorch\n",
    "1. Tomato_bacterial_spot\n",
    "1. Tomato_early_blight\n",
    "1. Tomato_healthy\n",
    "1. Tomato_late_blight\n",
    "1. Tomato_leaf_mold\n",
    "1. Tomato_septoria_leaf_spot\n",
    "1. Tomato_spider_mites_two-spotted_spider_mite\n",
    "1. Tomato_target_spot\n",
    "1. Tomato_mosaic_virus\n",
    "1. Tomato_yellow_leaf_curl_virus\n",
    "\n",
    "### Load the dataset"
   ]
  },
  {
   "cell_type": "code",
   "execution_count": 6,
   "id": "a1c76a3f",
   "metadata": {
    "execution": {
     "iopub.execute_input": "2023-11-11T05:54:35.722079Z",
     "iopub.status.busy": "2023-11-11T05:54:35.721704Z",
     "iopub.status.idle": "2023-11-11T05:54:52.980973Z",
     "shell.execute_reply": "2023-11-11T05:54:52.980123Z"
    },
    "papermill": {
     "duration": 17.275077,
     "end_time": "2023-11-11T05:54:52.983338",
     "exception": false,
     "start_time": "2023-11-11T05:54:35.708261",
     "status": "completed"
    },
    "tags": []
   },
   "outputs": [
    {
     "name": "stdout",
     "output_type": "stream",
     "text": [
      "Found 54305 files belonging to 38 classes.\n",
      "Using 43444 files for training.\n",
      "Using 10861 files for validation.\n"
     ]
    }
   ],
   "source": [
    "train_ds, test_ds = keras.utils.image_dataset_from_directory(\n",
    "    plant_village_dir ,\n",
    "    image_size=(224,224),\n",
    "    batch_size=32,\n",
    "    seed = 123,\n",
    "    validation_split=.2,\n",
    "    subset='both'\n",
    ")"
   ]
  },
  {
   "cell_type": "markdown",
   "id": "b989c6c7",
   "metadata": {
    "papermill": {
     "duration": 0.010585,
     "end_time": "2023-11-11T05:54:53.005271",
     "exception": false,
     "start_time": "2023-11-11T05:54:52.994686",
     "status": "completed"
    },
    "tags": []
   },
   "source": [
    "### Train the model"
   ]
  },
  {
   "cell_type": "code",
   "execution_count": 7,
   "id": "0ee11a99",
   "metadata": {
    "execution": {
     "iopub.execute_input": "2023-11-11T05:54:53.029025Z",
     "iopub.status.busy": "2023-11-11T05:54:53.028163Z",
     "iopub.status.idle": "2023-11-11T07:36:53.627757Z",
     "shell.execute_reply": "2023-11-11T07:36:53.626481Z"
    },
    "papermill": {
     "duration": 6120.614489,
     "end_time": "2023-11-11T07:36:53.630403",
     "exception": false,
     "start_time": "2023-11-11T05:54:53.015914",
     "status": "completed"
    },
    "tags": []
   },
   "outputs": [
    {
     "name": "stdout",
     "output_type": "stream",
     "text": [
      "Epoch 1/50\n",
      "1358/1358 [==============================] - 305s 188ms/step - loss: 1.2012 - accuracy: 0.6846 - val_loss: 0.3884 - val_accuracy: 0.8868\n",
      "Epoch 2/50\n",
      "1358/1358 [==============================] - 252s 186ms/step - loss: 0.3810 - accuracy: 0.8920 - val_loss: 1.5567 - val_accuracy: 0.6436\n",
      "Epoch 3/50\n",
      "1358/1358 [==============================] - 253s 186ms/step - loss: 0.2323 - accuracy: 0.9355 - val_loss: 0.1610 - val_accuracy: 0.9500\n",
      "Epoch 4/50\n",
      "1358/1358 [==============================] - 253s 186ms/step - loss: 0.1653 - accuracy: 0.9542 - val_loss: 0.2858 - val_accuracy: 0.9197\n",
      "Epoch 5/50\n",
      "1358/1358 [==============================] - 252s 186ms/step - loss: 0.1246 - accuracy: 0.9654 - val_loss: 0.4048 - val_accuracy: 0.8972\n",
      "Epoch 6/50\n",
      "1358/1358 [==============================] - 252s 185ms/step - loss: 0.0870 - accuracy: 0.9762 - val_loss: 0.2843 - val_accuracy: 0.9312\n",
      "Epoch 7/50\n",
      "1358/1358 [==============================] - 253s 186ms/step - loss: 0.0679 - accuracy: 0.9813 - val_loss: 0.0616 - val_accuracy: 0.9820\n",
      "Epoch 8/50\n",
      "1358/1358 [==============================] - 252s 185ms/step - loss: 0.0509 - accuracy: 0.9860 - val_loss: 0.0746 - val_accuracy: 0.9797\n",
      "Epoch 9/50\n",
      "1358/1358 [==============================] - 253s 186ms/step - loss: 0.0404 - accuracy: 0.9895 - val_loss: 0.0497 - val_accuracy: 0.9853\n",
      "Epoch 10/50\n",
      "1358/1358 [==============================] - 253s 186ms/step - loss: 0.0334 - accuracy: 0.9918 - val_loss: 0.0554 - val_accuracy: 0.9855\n",
      "Epoch 11/50\n",
      "1358/1358 [==============================] - 252s 186ms/step - loss: 0.0250 - accuracy: 0.9936 - val_loss: 0.1736 - val_accuracy: 0.9570\n",
      "Epoch 12/50\n",
      "1358/1358 [==============================] - 252s 186ms/step - loss: 0.0200 - accuracy: 0.9951 - val_loss: 0.0406 - val_accuracy: 0.9905\n",
      "Epoch 13/50\n",
      "1358/1358 [==============================] - 252s 186ms/step - loss: 0.0144 - accuracy: 0.9966 - val_loss: 0.0264 - val_accuracy: 0.9932\n",
      "Epoch 14/50\n",
      "1358/1358 [==============================] - 252s 185ms/step - loss: 0.0120 - accuracy: 0.9971 - val_loss: 0.0271 - val_accuracy: 0.9931\n",
      "Epoch 15/50\n",
      "1358/1358 [==============================] - 252s 186ms/step - loss: 0.0115 - accuracy: 0.9975 - val_loss: 0.0242 - val_accuracy: 0.9933\n",
      "Epoch 16/50\n",
      "1358/1358 [==============================] - 252s 186ms/step - loss: 0.0086 - accuracy: 0.9983 - val_loss: 0.0306 - val_accuracy: 0.9938\n",
      "Epoch 17/50\n",
      "1358/1358 [==============================] - 252s 186ms/step - loss: 0.0082 - accuracy: 0.9981 - val_loss: 0.0263 - val_accuracy: 0.9946\n",
      "Epoch 18/50\n",
      "1358/1358 [==============================] - 252s 185ms/step - loss: 0.0065 - accuracy: 0.9987 - val_loss: 0.0225 - val_accuracy: 0.9958\n",
      "Epoch 19/50\n",
      "1358/1358 [==============================] - 252s 186ms/step - loss: 0.0069 - accuracy: 0.9985 - val_loss: 0.0170 - val_accuracy: 0.9962\n",
      "Epoch 20/50\n",
      "1358/1358 [==============================] - 253s 186ms/step - loss: 0.0061 - accuracy: 0.9986 - val_loss: 0.0194 - val_accuracy: 0.9959\n",
      "Epoch 21/50\n",
      "1358/1358 [==============================] - 253s 186ms/step - loss: 0.0046 - accuracy: 0.9990 - val_loss: 0.0237 - val_accuracy: 0.9955\n",
      "Epoch 22/50\n",
      "1358/1358 [==============================] - 252s 186ms/step - loss: 0.0042 - accuracy: 0.9990 - val_loss: 0.0225 - val_accuracy: 0.9957\n",
      "Epoch 23/50\n",
      "1358/1358 [==============================] - 253s 186ms/step - loss: 0.0035 - accuracy: 0.9992 - val_loss: 0.0224 - val_accuracy: 0.9959\n",
      "Epoch 24/50\n",
      "1358/1358 [==============================] - 252s 186ms/step - loss: 0.0035 - accuracy: 0.9994 - val_loss: 0.0222 - val_accuracy: 0.9959\n"
     ]
    }
   ],
   "source": [
    "history = model.fit(train_ds, epochs=50, validation_data=test_ds, callbacks=[early_stopping])"
   ]
  },
  {
   "cell_type": "markdown",
   "id": "d13bb5ef",
   "metadata": {
    "papermill": {
     "duration": 2.686856,
     "end_time": "2023-11-11T07:36:58.967379",
     "exception": false,
     "start_time": "2023-11-11T07:36:56.280523",
     "status": "completed"
    },
    "tags": []
   },
   "source": [
    "### Evaluation"
   ]
  },
  {
   "cell_type": "code",
   "execution_count": 8,
   "id": "a6c68592",
   "metadata": {
    "execution": {
     "iopub.execute_input": "2023-11-11T07:37:04.179300Z",
     "iopub.status.busy": "2023-11-11T07:37:04.178916Z",
     "iopub.status.idle": "2023-11-11T07:37:32.904950Z",
     "shell.execute_reply": "2023-11-11T07:37:32.903843Z"
    },
    "papermill": {
     "duration": 31.438028,
     "end_time": "2023-11-11T07:37:32.907387",
     "exception": false,
     "start_time": "2023-11-11T07:37:01.469359",
     "status": "completed"
    },
    "tags": []
   },
   "outputs": [
    {
     "name": "stdout",
     "output_type": "stream",
     "text": [
      "340/340 [==============================] - 20s 55ms/step\n",
      "              precision    recall  f1-score   support\n",
      "\n",
      "           0       0.99      1.00      1.00       120\n",
      "           1       1.00      0.99      1.00       124\n",
      "           2       1.00      1.00      1.00        56\n",
      "           3       1.00      1.00      1.00       348\n",
      "           4       1.00      1.00      1.00       318\n",
      "           5       1.00      1.00      1.00       208\n",
      "           6       1.00      1.00      1.00       147\n",
      "           7       0.94      0.93      0.94       109\n",
      "           8       1.00      1.00      1.00       238\n",
      "           9       0.96      0.96      0.96       200\n",
      "          10       1.00      1.00      1.00       247\n",
      "          11       1.00      1.00      1.00       229\n",
      "          12       1.00      1.00      1.00       274\n",
      "          13       1.00      1.00      1.00       219\n",
      "          14       1.00      1.00      1.00        94\n",
      "          15       1.00      1.00      1.00      1137\n",
      "          16       1.00      1.00      1.00       446\n",
      "          17       0.99      1.00      0.99        82\n",
      "          18       1.00      0.98      0.99       182\n",
      "          19       0.99      1.00      1.00       279\n",
      "          20       1.00      1.00      1.00       185\n",
      "          21       0.99      1.00      0.99       201\n",
      "          22       1.00      1.00      1.00        24\n",
      "          23       1.00      1.00      1.00        70\n",
      "          24       1.00      1.00      1.00      1041\n",
      "          25       1.00      1.00      1.00       355\n",
      "          26       1.00      1.00      1.00       201\n",
      "          27       1.00      1.00      1.00       103\n",
      "          28       1.00      0.99      1.00       449\n",
      "          29       0.98      0.97      0.98       187\n",
      "          30       0.98      0.99      0.98       416\n",
      "          31       1.00      1.00      1.00       173\n",
      "          32       0.99      1.00      1.00       331\n",
      "          33       1.00      1.00      1.00       330\n",
      "          34       1.00      0.99      0.99       254\n",
      "          35       1.00      1.00      1.00      1078\n",
      "          36       1.00      1.00      1.00        77\n",
      "          37       1.00      1.00      1.00       329\n",
      "\n",
      "    accuracy                           1.00     10861\n",
      "   macro avg       0.99      0.99      0.99     10861\n",
      "weighted avg       1.00      1.00      1.00     10861\n",
      "\n"
     ]
    }
   ],
   "source": [
    "predictions = model.predict(test_ds)\n",
    "predicted_labels = tf.argmax(predictions, axis=1)\n",
    "true_labels = [label for _, label in test_ds.unbatch()]\n",
    "print(classification_report(true_labels, predicted_labels))"
   ]
  },
  {
   "cell_type": "code",
   "execution_count": 9,
   "id": "b75c2b22",
   "metadata": {
    "execution": {
     "iopub.execute_input": "2023-11-11T07:37:38.175918Z",
     "iopub.status.busy": "2023-11-11T07:37:38.175546Z",
     "iopub.status.idle": "2023-11-11T07:37:38.635139Z",
     "shell.execute_reply": "2023-11-11T07:37:38.634195Z"
    },
    "papermill": {
     "duration": 3.182795,
     "end_time": "2023-11-11T07:37:38.637097",
     "exception": false,
     "start_time": "2023-11-11T07:37:35.454302",
     "status": "completed"
    },
    "tags": []
   },
   "outputs": [
    {
     "data": {
      "image/png": "[encoded data removed]",
      "text/plain": [
       "<Figure size 1200x400 with 2 Axes>"
      ]
     },
     "metadata": {},
     "output_type": "display_data"
    }
   ],
   "source": [
    "plt.figure(figsize=(12, 4))\n",
    "plt.subplot(1, 2, 1)\n",
    "plt.plot(history.history['accuracy'], label='Training Accuracy')\n",
    "plt.plot(history.history['val_accuracy'], label='Validation Accuracy')\n",
    "plt.xlabel('Epochs')\n",
    "plt.ylabel('Accuracy')\n",
    "plt.legend()\n",
    "\n",
    "plt.subplot(1, 2, 2)\n",
    "plt.plot(history.history['loss'], label='Training Loss')\n",
    "plt.plot(history.history['val_loss'], label='Validation Loss')\n",
    "plt.xlabel('Epochs')\n",
    "plt.ylabel('Loss')\n",
    "plt.legend()\n",
    "\n",
    "plt.show()"
   ]
  },
  {
   "cell_type": "markdown",
   "id": "befffe38",
   "metadata": {
    "papermill": {
     "duration": 2.726453,
     "end_time": "2023-11-11T07:37:43.911612",
     "exception": false,
     "start_time": "2023-11-11T07:37:41.185159",
     "status": "completed"
    },
    "tags": []
   },
   "source": [
    "## Train the model with PlantVillage and PlantDoc Dataset"
   ]
  },
  {
   "cell_type": "code",
   "execution_count": 10,
   "id": "f9b69854",
   "metadata": {
    "execution": {
     "iopub.execute_input": "2023-11-11T07:37:49.159146Z",
     "iopub.status.busy": "2023-11-11T07:37:49.158319Z",
     "iopub.status.idle": "2023-11-11T07:38:45.594134Z",
     "shell.execute_reply": "2023-11-11T07:38:45.593164Z"
    },
    "papermill": {
     "duration": 61.67901,
     "end_time": "2023-11-11T07:38:48.122542",
     "exception": false,
     "start_time": "2023-11-11T07:37:46.443532",
     "status": "completed"
    },
    "tags": []
   },
   "outputs": [
    {
     "data": {
      "text/plain": [
       "'/kaggle/working/dataset/'"
      ]
     },
     "execution_count": 10,
     "metadata": {},
     "output_type": "execute_result"
    }
   ],
   "source": [
    "shutil.copytree(plant_village_dir, dataset_dir)"
   ]
  },
  {
   "cell_type": "markdown",
   "id": "b24d7908",
   "metadata": {
    "papermill": {
     "duration": 2.615328,
     "end_time": "2023-11-11T07:38:53.491944",
     "exception": false,
     "start_time": "2023-11-11T07:38:50.876616",
     "status": "completed"
    },
    "tags": []
   },
   "source": [
    "### PlantDoc Dataset\n",
    "PlantDoc has 27 classes of Plant Diseases.\n",
    "1. Apple_Scab_Leaf\n",
    "2. Apple_leaf\n",
    "3. Apple_rust_leaf\n",
    "4. Bell_pepper_leaf\n",
    "5. Bell_pepper_leaf_spot\n",
    "6. Blueberry_leaf\n",
    "7. Cherry_leaf\n",
    "8. Corn_Gray_leaf_spot\n",
    "9. Corn_leaf_blight\n",
    "10. Corn_rust_leaf\n",
    "11. Peach_leaf\n",
    "12. Potato_leaf_early_blight\n",
    "13. Potato_leaf_late_blight\n",
    "14. Raspberry_leaf\n",
    "15. Soyabean_leaf\n",
    "16. Squash_Powdery_mildew_leaf\n",
    "17. Strawberry_leaf\n",
    "18. Tomato_Early_blight_leaf\n",
    "19. Tomato_Septoria_leaf_spot\n",
    "20. Tomato_leaf\n",
    "21. Tomato_leaf_bacterial_spot\n",
    "22. Tomato_leaf_late_blight\n",
    "23. Tomato_leaf_mosaic_virus\n",
    "24. Tomato_leaf_yellow_virus\n",
    "25. Tomato_mold_leaf\n",
    "26. grape_leaf\n",
    "27. grape_leaf_black_rot\n",
    "\n",
    "### Merging PlantVillage with PlantDoc\n",
    "I have merge the PlantVillage Dataset with PlantDoc with their respective classes as follows"
   ]
  },
  {
   "cell_type": "code",
   "execution_count": 11,
   "id": "e614af24",
   "metadata": {
    "execution": {
     "iopub.execute_input": "2023-11-11T07:38:58.893958Z",
     "iopub.status.busy": "2023-11-11T07:38:58.893569Z",
     "iopub.status.idle": "2023-11-11T07:38:58.900741Z",
     "shell.execute_reply": "2023-11-11T07:38:58.899879Z"
    },
    "papermill": {
     "duration": 2.617928,
     "end_time": "2023-11-11T07:38:58.902765",
     "exception": false,
     "start_time": "2023-11-11T07:38:56.284837",
     "status": "completed"
    },
    "tags": []
   },
   "outputs": [],
   "source": [
    "class_mapping = {\n",
    "    \"Apple_Scab_Leaf\": \"Apple___Apple_scab\",\n",
    "    \"Apple_leaf\": \"Apple___healthy\",\n",
    "    \"Apple_rust_leaf\": \"Apple___Cedar_apple_rust\",\n",
    "    \"Blueberry_leaf\": \"Blueberry___healthy\",\n",
    "    \"Cherry_leaf\": \"Cherry_(including_sour)___healthy\",\n",
    "    \"Corn_Gray_leaf_spot\": \"Corn_(maize)___Cercospora_leaf_spot Gray_leaf_spot\",\n",
    "    \"Corn_leaf_blight\": \"Corn_(maize)___Northern_Leaf_Blight\",\n",
    "    \"Corn_rust_leaf\": \"Corn_(maize)___Common_rust_\",\n",
    "    \"Peach_leaf\": \"Peach___healthy\",\n",
    "    \"Potato_leaf_early_blight\": \"Potato___Early_blight\",\n",
    "    \"Potato_leaf_late_blight\": \"Potato___Late_blight\",\n",
    "    \"Raspberry_leaf\": \"Raspberry___healthy\",\n",
    "    \"Soyabean_leaf\": \"Soybean___healthy\",\n",
    "    \"Squash_Powdery_mildew_leaf\": \"Squash___Powdery_mildew\",\n",
    "    \"Strawberry_leaf\": \"Strawberry___healthy\",\n",
    "    \"Tomato_Early_blight_leaf\": \"Tomato___Early_blight\",\n",
    "    \"Tomato_Septoria_leaf_spot\": \"Tomato___Septoria_leaf_spot\",\n",
    "    \"Tomato_leaf\": \"Tomato___healthy\",\n",
    "    \"Tomato_leaf_bacterial_spot\": \"Tomato___Bacterial_spot\",\n",
    "    \"Tomato_leaf_late_blight\": \"Tomato___Late_blight\",\n",
    "    \"Tomato_leaf_mosaic_virus\": \"Tomato___Tomato_mosaic_virus\",\n",
    "    \"Tomato_leaf_yellow_virus\": \"Tomato___Tomato_Yellow_Leaf_Curl_Virus\",\n",
    "    \"Tomato_mold_leaf\": \"Tomato___Leaf_Mold\",\n",
    "    \"grape_leaf\": \"Grape___healthy\",\n",
    "    \"grape_leaf_black_rot\": \"Grape___Black_rot\"\n",
    "}"
   ]
  },
  {
   "cell_type": "code",
   "execution_count": 12,
   "id": "ba6837b0",
   "metadata": {
    "execution": {
     "iopub.execute_input": "2023-11-11T07:39:04.301278Z",
     "iopub.status.busy": "2023-11-11T07:39:04.300898Z",
     "iopub.status.idle": "2023-11-11T07:39:26.741925Z",
     "shell.execute_reply": "2023-11-11T07:39:26.740884Z"
    },
    "papermill": {
     "duration": 24.987758,
     "end_time": "2023-11-11T07:39:26.744257",
     "exception": false,
     "start_time": "2023-11-11T07:39:01.756499",
     "status": "completed"
    },
    "tags": []
   },
   "outputs": [],
   "source": [
    "for k, v in class_mapping.items():\n",
    "    source_dir = f\"/kaggle/input/plantdoc-dataset/train/{k}\"\n",
    "    dest_dir = f\"/kaggle/working/dataset/{v}\"\n",
    "    file_list = os.listdir(source_dir)\n",
    "    for filename in file_list:\n",
    "        source_file = os.path.join(source_dir, filename)\n",
    "        destination_file = os.path.join(dest_dir, filename)\n",
    "        shutil.copy2(source_file, destination_file)"
   ]
  },
  {
   "cell_type": "markdown",
   "id": "77e54625",
   "metadata": {
    "papermill": {
     "duration": 2.635996,
     "end_time": "2023-11-11T07:39:32.167826",
     "exception": false,
     "start_time": "2023-11-11T07:39:29.531830",
     "status": "completed"
    },
    "tags": []
   },
   "source": [
    "### Load the dataset"
   ]
  },
  {
   "cell_type": "code",
   "execution_count": 13,
   "id": "d91ea453",
   "metadata": {
    "execution": {
     "iopub.execute_input": "2023-11-11T07:39:37.414308Z",
     "iopub.status.busy": "2023-11-11T07:39:37.413723Z",
     "iopub.status.idle": "2023-11-11T07:39:41.042601Z",
     "shell.execute_reply": "2023-11-11T07:39:41.041612Z"
    },
    "id": "o1_5m8oKtfdr",
    "outputId": "b9ac1b16-8b9e-4abf-c51a-236c7ea66ed0",
    "papermill": {
     "duration": 6.155342,
     "end_time": "2023-11-11T07:39:41.045066",
     "exception": false,
     "start_time": "2023-11-11T07:39:34.889724",
     "status": "completed"
    },
    "tags": []
   },
   "outputs": [
    {
     "name": "stdout",
     "output_type": "stream",
     "text": [
      "Found 56530 files belonging to 38 classes.\n",
      "Using 45224 files for training.\n",
      "Using 11306 files for validation.\n"
     ]
    }
   ],
   "source": [
    "path = '/kaggle/working/dataset'\n",
    "train_ds, test_ds = keras.utils.image_dataset_from_directory(\n",
    "    path ,\n",
    "    image_size=(224,224),\n",
    "    batch_size=32 ,\n",
    "    seed = 123 ,\n",
    "    validation_split=.2,\n",
    "    subset='both'\n",
    ")\n"
   ]
  },
  {
   "cell_type": "markdown",
   "id": "20627b30",
   "metadata": {
    "papermill": {
     "duration": 2.556514,
     "end_time": "2023-11-11T07:39:46.337260",
     "exception": false,
     "start_time": "2023-11-11T07:39:43.780746",
     "status": "completed"
    },
    "tags": []
   },
   "source": [
    "### Train the model"
   ]
  },
  {
   "cell_type": "code",
   "execution_count": 14,
   "id": "b4710d47",
   "metadata": {
    "execution": {
     "iopub.execute_input": "2023-11-11T07:39:51.585345Z",
     "iopub.status.busy": "2023-11-11T07:39:51.584938Z",
     "iopub.status.idle": "2023-11-11T08:33:39.793311Z",
     "shell.execute_reply": "2023-11-11T08:33:39.792314Z"
    },
    "papermill": {
     "duration": 3234.788361,
     "end_time": "2023-11-11T08:33:43.827820",
     "exception": false,
     "start_time": "2023-11-11T07:39:49.039459",
     "status": "completed"
    },
    "tags": []
   },
   "outputs": [
    {
     "name": "stdout",
     "output_type": "stream",
     "text": [
      "Epoch 1/50\n",
      "1414/1414 [==============================] - 266s 188ms/step - loss: 0.2231 - accuracy: 0.9631 - val_loss: 0.1193 - val_accuracy: 0.9713\n",
      "Epoch 2/50\n",
      "1414/1414 [==============================] - 264s 187ms/step - loss: 0.1610 - accuracy: 0.9676 - val_loss: 0.1081 - val_accuracy: 0.9731\n",
      "Epoch 3/50\n",
      "1414/1414 [==============================] - 264s 186ms/step - loss: 0.1405 - accuracy: 0.9699 - val_loss: 0.1000 - val_accuracy: 0.9745\n",
      "Epoch 4/50\n",
      "1414/1414 [==============================] - 264s 187ms/step - loss: 0.1242 - accuracy: 0.9719 - val_loss: 0.0996 - val_accuracy: 0.9750\n",
      "Epoch 5/50\n",
      "1414/1414 [==============================] - 264s 187ms/step - loss: 0.1100 - accuracy: 0.9743 - val_loss: 0.0971 - val_accuracy: 0.9748\n",
      "Epoch 6/50\n",
      "1414/1414 [==============================] - 264s 186ms/step - loss: 0.1042 - accuracy: 0.9755 - val_loss: 0.0976 - val_accuracy: 0.9753\n",
      "Epoch 7/50\n",
      "1414/1414 [==============================] - 264s 186ms/step - loss: 0.0979 - accuracy: 0.9775 - val_loss: 0.0959 - val_accuracy: 0.9754\n",
      "Epoch 8/50\n",
      "1414/1414 [==============================] - 264s 187ms/step - loss: 0.0918 - accuracy: 0.9779 - val_loss: 0.0964 - val_accuracy: 0.9759\n",
      "Epoch 9/50\n",
      "1414/1414 [==============================] - 264s 187ms/step - loss: 0.0863 - accuracy: 0.9792 - val_loss: 0.0973 - val_accuracy: 0.9760\n",
      "Epoch 10/50\n",
      "1414/1414 [==============================] - 264s 186ms/step - loss: 0.0816 - accuracy: 0.9793 - val_loss: 0.0963 - val_accuracy: 0.9760\n",
      "Epoch 11/50\n",
      "1414/1414 [==============================] - 264s 187ms/step - loss: 0.0768 - accuracy: 0.9809 - val_loss: 0.0961 - val_accuracy: 0.9759\n",
      "Epoch 12/50\n",
      "1414/1414 [==============================] - 264s 186ms/step - loss: 0.0742 - accuracy: 0.9812 - val_loss: 0.0968 - val_accuracy: 0.9761\n"
     ]
    }
   ],
   "source": [
    "history = model.fit(train_ds, epochs=50, validation_data=test_ds, callbacks=[early_stopping])"
   ]
  },
  {
   "cell_type": "markdown",
   "id": "1415920c",
   "metadata": {
    "papermill": {
     "duration": 3.984934,
     "end_time": "2023-11-11T08:33:51.772564",
     "exception": false,
     "start_time": "2023-11-11T08:33:47.787630",
     "status": "completed"
    },
    "tags": []
   },
   "source": [
    "### Evaluation"
   ]
  },
  {
   "cell_type": "code",
   "execution_count": 15,
   "id": "858bb13f",
   "metadata": {
    "execution": {
     "iopub.execute_input": "2023-11-11T08:33:59.820289Z",
     "iopub.status.busy": "2023-11-11T08:33:59.819909Z",
     "iopub.status.idle": "2023-11-11T08:34:29.895469Z",
     "shell.execute_reply": "2023-11-11T08:34:29.894508Z"
    },
    "papermill": {
     "duration": 38.204612,
     "end_time": "2023-11-11T08:34:33.943550",
     "exception": false,
     "start_time": "2023-11-11T08:33:55.738938",
     "status": "completed"
    },
    "tags": []
   },
   "outputs": [
    {
     "name": "stdout",
     "output_type": "stream",
     "text": [
      "354/354 [==============================] - 20s 56ms/step\n",
      "              precision    recall  f1-score   support\n",
      "\n",
      "           0       0.91      0.94      0.92       139\n",
      "           1       0.99      1.00      1.00       117\n",
      "           2       0.96      0.89      0.93        84\n",
      "           3       0.96      0.98      0.97       364\n",
      "           4       0.92      0.98      0.95       321\n",
      "           5       1.00      1.00      1.00       211\n",
      "           6       0.98      0.96      0.97       165\n",
      "           7       0.88      0.95      0.92       125\n",
      "           8       0.98      0.95      0.96       256\n",
      "           9       0.94      0.94      0.94       244\n",
      "          10       0.99      1.00      0.99       219\n",
      "          11       0.99      0.97      0.98       268\n",
      "          12       1.00      1.00      1.00       268\n",
      "          13       1.00      1.00      1.00       221\n",
      "          14       0.96      0.90      0.93       123\n",
      "          15       1.00      1.00      1.00      1103\n",
      "          16       1.00      1.00      1.00       460\n",
      "          17       0.94      0.93      0.94        72\n",
      "          18       1.00      0.99      1.00       185\n",
      "          19       0.99      1.00      0.99       279\n",
      "          20       0.94      0.87      0.90       221\n",
      "          21       0.92      0.94      0.93       223\n",
      "          22       1.00      1.00      1.00        24\n",
      "          23       0.85      0.85      0.85        98\n",
      "          24       1.00      0.99      1.00      1038\n",
      "          25       0.99      1.00      0.99       374\n",
      "          26       0.99      1.00      0.99       242\n",
      "          27       0.89      0.92      0.90       107\n",
      "          28       0.96      0.98      0.97       444\n",
      "          29       0.95      0.94      0.94       249\n",
      "          30       0.95      0.96      0.95       393\n",
      "          31       0.96      0.91      0.93       171\n",
      "          32       0.97      0.96      0.96       376\n",
      "          33       1.00      1.00      1.00       320\n",
      "          34       0.99      1.00      0.99       281\n",
      "          35       0.99      0.99      0.99      1119\n",
      "          36       0.92      0.91      0.92        79\n",
      "          37       0.97      0.97      0.97       323\n",
      "\n",
      "    accuracy                           0.98     11306\n",
      "   macro avg       0.96      0.96      0.96     11306\n",
      "weighted avg       0.98      0.98      0.98     11306\n",
      "\n"
     ]
    }
   ],
   "source": [
    "predictions = model.predict(test_ds)\n",
    "predicted_labels = tf.argmax(predictions, axis=1)\n",
    "true_labels = [label for _, label in test_ds.unbatch()]\n",
    "print(classification_report(true_labels, predicted_labels))"
   ]
  },
  {
   "cell_type": "code",
   "execution_count": 16,
   "id": "71515f88",
   "metadata": {
    "execution": {
     "iopub.execute_input": "2023-11-11T08:34:42.025745Z",
     "iopub.status.busy": "2023-11-11T08:34:42.024747Z",
     "iopub.status.idle": "2023-11-11T08:34:44.257912Z",
     "shell.execute_reply": "2023-11-11T08:34:44.256918Z"
    },
    "papermill": {
     "duration": 6.299247,
     "end_time": "2023-11-11T08:34:44.259946",
     "exception": false,
     "start_time": "2023-11-11T08:34:37.960699",
     "status": "completed"
    },
    "tags": []
   },
   "outputs": [
    {
     "name": "stdout",
     "output_type": "stream",
     "text": [
      "ROC AUC Score: 0.9805547724762782\n"
     ]
    }
   ],
   "source": [
    "true_labels_one_hot = tf.one_hot(true_labels, depth=38)\n",
    "predicted_labels_one_hot = tf.one_hot(predicted_labels, depth=38)\n",
    "roc_auc = roc_auc_score(true_labels_one_hot, predicted_labels_one_hot, average='macro')\n",
    "print(\"ROC AUC Score:\", roc_auc)"
   ]
  },
  {
   "cell_type": "code",
   "execution_count": 17,
   "id": "4c3a1955",
   "metadata": {
    "execution": {
     "iopub.execute_input": "2023-11-11T08:34:52.263827Z",
     "iopub.status.busy": "2023-11-11T08:34:52.263042Z",
     "iopub.status.idle": "2023-11-11T08:34:52.706048Z",
     "shell.execute_reply": "2023-11-11T08:34:52.705093Z"
    },
    "papermill": {
     "duration": 4.422394,
     "end_time": "2023-11-11T08:34:52.708280",
     "exception": false,
     "start_time": "2023-11-11T08:34:48.285886",
     "status": "completed"
    },
    "tags": []
   },
   "outputs": [
    {
     "data": {
      "image/png": "[encoded data removed]",
      "text/plain": [
       "<Figure size 1200x400 with 2 Axes>"
      ]
     },
     "metadata": {},
     "output_type": "display_data"
    }
   ],
   "source": [
    "plt.figure(figsize=(12, 4))\n",
    "plt.subplot(1, 2, 1)\n",
    "plt.plot(history.history['accuracy'], label='Training Accuracy')\n",
    "plt.plot(history.history['val_accuracy'], label='Validation Accuracy')\n",
    "plt.xlabel('Epochs')\n",
    "plt.ylabel('Accuracy')\n",
    "plt.legend()\n",
    "\n",
    "plt.subplot(1, 2, 2)\n",
    "plt.plot(history.history['loss'], label='Training Loss')\n",
    "plt.plot(history.history['val_loss'], label='Validation Loss')\n",
    "plt.xlabel('Epochs')\n",
    "plt.ylabel('Loss')\n",
    "plt.legend()\n",
    "\n",
    "plt.show()"
   ]
  },
  {
   "cell_type": "markdown",
   "id": "a73521f5",
   "metadata": {
    "papermill": {
     "duration": 4.093876,
     "end_time": "2023-11-11T08:35:00.802533",
     "exception": false,
     "start_time": "2023-11-11T08:34:56.708657",
     "status": "completed"
    },
    "tags": []
   },
   "source": [
    "## Performance Comparison\n",
    "This values from first version of the notebook. \n",
    "\n",
    "|   |Precision| Recall |F1 Score|Accuracy|No of Epoches|No of Samples|\n",
    "|---|---|---|---|---|---|---|\n",
    "| PlantVillage  |0.71|0.62|0.61|0.62|6|10861|\n",
    "| PlantDoc train + Plant Village |0.86|0.85|0.85|0.85|18|11306|\n"
   ]
  },
  {
   "cell_type": "markdown",
   "id": "c3dc2952",
   "metadata": {
    "papermill": {
     "duration": 4.035368,
     "end_time": "2023-11-11T08:35:08.827899",
     "exception": false,
     "start_time": "2023-11-11T08:35:04.792531",
     "status": "completed"
    },
    "tags": []
   },
   "source": [
    "## Further Enhancements Can be Done\n",
    "### 1. Data Augmentation:\n",
    "   Data augmentation is a technique in the field of machine learning and computer vision that can significantly enhance the quality and diversity of your dataset. It involves applying various transformations and modifications to your existing data, such as flipping, rotating, cropping, and introducing noise. This process generates additional training samples, reducing the risk of overfitting and improving the generalization capability of your model. Data augmentation can be particularly valuable in scenarios with limited labeled data, helping to create a more robust and comprehensive training set. By leveraging data augmentation, you can make your machine learning models more resilient and capable of handling variations and noise in real-world data.\n",
    "\n",
    "### 2. Using Transfer Learning:\n",
    "   Transfer learning is a powerful approach in deep learning where a pre-trained model, typically trained on a large dataset, is fine-tuned or used as a feature extractor for a different but related task. This technique offers several advantages, including faster convergence, better performance with limited data, and the ability to leverage the knowledge and features learned by the pre-trained model. By adopting transfer learning, you can save both time and computational resources in training deep neural networks from scratch. It is especially valuable when working with smaller datasets or when developing models for specific applications, as it allows you to harness the wisdom of models trained on extensive and diverse data sources. Overall, transfer learning is a practical strategy for improving the efficiency and effectiveness of deep learning models in various applications."
   ]
  }
 ],
 "metadata": {
  "kernelspec": {
   "display_name": "Python 3",
   "language": "python",
   "name": "python3"
  },
  "language_info": {
   "codemirror_mode": {
    "name": "ipython",
    "version": 3
   },
   "file_extension": ".py",
   "mimetype": "text/x-python",
   "name": "python",
   "nbconvert_exporter": "python",
   "pygments_lexer": "ipython3",
   "version": "3.10.12"
  },
  "papermill": {
   "default_parameters": {},
   "duration": 9660.233941,
   "end_time": "2023-11-11T08:35:16.075352",
   "environment_variables": {},
   "exception": null,
   "input_path": "__notebook__.ipynb",
   "output_path": "__notebook__.ipynb",
   "parameters": {},
   "start_time": "2023-11-11T05:54:15.841411",
   "version": "2.4.0"
  }
 },
 "nbformat": 4,
 "nbformat_minor": 5
}
